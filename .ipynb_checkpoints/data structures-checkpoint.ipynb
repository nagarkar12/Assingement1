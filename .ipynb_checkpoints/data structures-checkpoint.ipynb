{
 "cells": [
  {
   "cell_type": "code",
   "execution_count": 1,
   "id": "2348139b-b236-4152-86e1-3a89fcbd8f83",
   "metadata": {},
   "outputs": [
    {
     "name": "stdout",
     "output_type": "stream",
     "text": [
      "olleh\n"
     ]
    }
   ],
   "source": [
    "#Q1.Write code to revere string\n",
    "s=\"hello\"\n",
    "print(s[-1:-6:-1])"
   ]
  },
  {
   "cell_type": "code",
   "execution_count": 2,
   "id": "ebeb0428-3434-45bb-a70a-cb20f196794d",
   "metadata": {},
   "outputs": [
    {
     "name": "stdout",
     "output_type": "stream",
     "text": [
      "number of vowels: 3\n"
     ]
    }
   ],
   "source": [
    "#Q2.Write a code to count the number of vowels in a string.\n",
    "def demo(str):\n",
    "    v=\"aeiouAEIOU\"\n",
    "    count=0\n",
    "    for char in str:\n",
    "        if char in v:\n",
    "            count+=1\n",
    "    return count\n",
    "str=\"Assigments\"\n",
    "print(\"number of vowels:\",demo(str))"
   ]
  },
  {
   "cell_type": "code",
   "execution_count": null,
   "id": "c2874470-fe64-4ae6-a21c-2c1357dfb779",
   "metadata": {},
   "outputs": [],
   "source": [
    "#3. Write a code to check if a given string is a palindrome or not.\n",
    "def demo(a):\n",
    "    return a==a[::-1]\n",
    "a=\"demomed\"\n",
    "ans=demo(a)\n",
    "if ans:\n",
    "    print(\"the string is palindrome\")\n",
    "else:\n",
    "    print(\"the string is not palindrome\")"
   ]
  },
  {
   "cell_type": "code",
   "execution_count": 3,
   "id": "a71b6f1b-045d-4542-a737-b4bce336679b",
   "metadata": {},
   "outputs": [
    {
     "name": "stdout",
     "output_type": "stream",
     "text": [
      "not anagrams\n",
      "anagrams\n"
     ]
    }
   ],
   "source": [
    "#4. Write a code to check if two given strings are anagrams of each other.\n",
    "def demo(s1,s2):\n",
    "    if(sorted(s1)==sorted(s2)):\n",
    "        print(\"anagrams\")\n",
    "    else:\n",
    "        print(\"not anagrams\")\n",
    "s1 =\"bad\"\n",
    "s2 =\"dad\"\n",
    "demo(s1,s2)  \n",
    "a1=\"listen\"\n",
    "a2=\"silent\"\n",
    "demo(a1,a2)"
   ]
  },
  {
   "cell_type": "code",
   "execution_count": 4,
   "id": "a170f4b1-5acc-4d62-bd4b-255d33c8c7ef",
   "metadata": {},
   "outputs": [
    {
     "name": "stdout",
     "output_type": "stream",
     "text": [
      "10 26 "
     ]
    }
   ],
   "source": [
    "#5.Write a code to find all occurrences of a given substring within another string.\n",
    "def printIndex(str, s):\n",
    "\n",
    "    flag = False\n",
    "    for i in range(len(str)):\n",
    "        if (str[i:i + len(s)] == s):\n",
    "\n",
    "            print(i, end=\" \")\n",
    "            flag = True\n",
    "\n",
    "    if (flag == False):\n",
    "        print(\"NONE\")\n",
    "\n",
    "str1 = \"This is a test string for testing\"\n",
    "str2 = \"test\"\n",
    "printIndex(str1, str2)"
   ]
  },
  {
   "cell_type": "code",
   "execution_count": 3,
   "id": "36901506-584b-4fd2-a382-af1419a8f2f7",
   "metadata": {},
   "outputs": [
    {
     "name": "stdout",
     "output_type": "stream",
     "text": [
      " ab3a6c2da2b\n"
     ]
    }
   ],
   "source": [
    "#6.Write a code to perform basic string compression using the counts of repeated characters\n",
    "def demo(s):\n",
    "    res=\" \"\n",
    "    count=1\n",
    "    for i in range(1,len(s)):\n",
    "        if s[i-1]==s[i]:\n",
    "            count+=1\n",
    "        else:\n",
    "            res=res+s[i-1]\n",
    "            if count>1:\n",
    "                res+=str(count)\n",
    "            count=1\n",
    "    res=res+s[-1]\n",
    "    if count>1:\n",
    "        res+=str(count)\n",
    "    return res\n",
    "s=\"abbbaaaaaaccdaab\"\n",
    "print(demo(s))"
   ]
  },
  {
   "cell_type": "code",
   "execution_count": 9,
   "id": "94b1e9cf-a930-4b08-8096-e1f1dd1b12fb",
   "metadata": {},
   "outputs": [
    {
     "name": "stdout",
     "output_type": "stream",
     "text": [
      "True\n"
     ]
    }
   ],
   "source": [
    "#7.Write a code to determine if a string has all unique characters.\n",
    "def demo(s:str)->bool:\n",
    "    return len(s)==len(set(s))\n",
    "a=\"abcdef\"\n",
    "print(demo(a))"
   ]
  },
  {
   "cell_type": "code",
   "execution_count": 10,
   "id": "f8bd44e8-812a-4075-8a95-2a89c8461798",
   "metadata": {},
   "outputs": [
    {
     "name": "stdout",
     "output_type": "stream",
     "text": [
      "uppercase string HELLO\n",
      "lowercase string hello\n"
     ]
    }
   ],
   "source": [
    "#8.Write a code to convert a given string to uppercase or lowercase.\n",
    "a=\"hello\"\n",
    "b=a.upper()\n",
    "print(\"uppercase string\",b)\n",
    "c=\"HELLO\"\n",
    "d=c.lower()\n",
    "print(\"lowercase string\",d)"
   ]
  },
  {
   "cell_type": "code",
   "execution_count": 11,
   "id": "148e3ddf-6a80-49be-bb8e-b842365cedef",
   "metadata": {},
   "outputs": [
    {
     "name": "stdout",
     "output_type": "stream",
     "text": [
      "no of words is: 6\n"
     ]
    }
   ],
   "source": [
    "#9.Write a code to count the number of words in a string.\n",
    "a=\"Assinment of data structures in python\"\n",
    "b=len(a.split())\n",
    "print(\"no of words is:\",b)"
   ]
  },
  {
   "cell_type": "code",
   "execution_count": 12,
   "id": "c72548df-8d28-42b0-8cb7-67c0b449dbc4",
   "metadata": {},
   "outputs": [
    {
     "name": "stdout",
     "output_type": "stream",
     "text": [
      "Hello Wrold\n"
     ]
    }
   ],
   "source": [
    "#10.Write a code to concatenate two strings without using the + operator.\n",
    "a=\"Hello\"\n",
    "b=\"Wrold\"\n",
    "print(\" \".join([a,b]))"
   ]
  },
  {
   "cell_type": "code",
   "execution_count": 13,
   "id": "941d31a6-8076-46b4-b96c-3158bfa08b42",
   "metadata": {},
   "outputs": [
    {
     "name": "stdout",
     "output_type": "stream",
     "text": [
      "[1, 3, 4, 5, 9, 7]\n"
     ]
    }
   ],
   "source": [
    "#11.Write a code to remove all occurrences of a specific element from a list.\n",
    "a=[1,2,3,2,4,5,2,9,7,2]\n",
    "r=2\n",
    "b=[element for element in a if element!= r]\n",
    "print(b)"
   ]
  },
  {
   "cell_type": "code",
   "execution_count": 14,
   "id": "eb166863-c13e-4c76-ba6d-1d824f070637",
   "metadata": {},
   "outputs": [
    {
     "name": "stdout",
     "output_type": "stream",
     "text": [
      "70\n"
     ]
    }
   ],
   "source": [
    "#12.Implement a code to find the second largest number in a given list of integers.\n",
    "a=[10,20,30,40,50,60,70,80]\n",
    "a.sort()\n",
    "print(a[-2])"
   ]
  },
  {
   "cell_type": "code",
   "execution_count": 15,
   "id": "1ade0607-76ad-4837-872c-a782cdf487d6",
   "metadata": {},
   "outputs": [
    {
     "name": "stdout",
     "output_type": "stream",
     "text": [
      "the element 2 occurs 3 times\n"
     ]
    }
   ],
   "source": [
    "#13.Create a code to count the occurrences of each element in a list and return a dictionary with elements as keys and their counts as values.\n",
    "l = [1, 1, 2, 2, 2, 3, 3, 4, 4, 5, 5] \n",
    "ele=2\n",
    "x=[i for i in l if i==ele] \n",
    "print(\"the element\",ele,\"occurs\",len(x),\"times\")"
   ]
  },
  {
   "cell_type": "code",
   "execution_count": 16,
   "id": "09d712b9-e998-4c2c-b484-3a978f00e6d7",
   "metadata": {},
   "outputs": [
    {
     "name": "stdout",
     "output_type": "stream",
     "text": [
      "50\n",
      "40\n",
      "30\n",
      "20\n",
      "10\n"
     ]
    }
   ],
   "source": [
    "#14 Write a code to reverse a list in-place without using any built-in reverse functions.\n",
    "lst=[10,20,30,40,50]\n",
    "s=len(lst)\n",
    "for i in range(s-1,-1,-1):\n",
    "    print(lst[i])"
   ]
  },
  {
   "cell_type": "code",
   "execution_count": 17,
   "id": "8c135dc0-516c-4bd8-8c98-1cf776f0661f",
   "metadata": {},
   "outputs": [
    {
     "name": "stdout",
     "output_type": "stream",
     "text": [
      "Original List: [1, 2, 3, 4, 2, 1, 5, 6, 4]\n",
      "Update List: [1, 2, 3, 4, 5, 6]\n",
      "count as value 4\n"
     ]
    }
   ],
   "source": [
    "#15. Implement a code to find and remove duplicates from a list while preserving the original order of elements.\n",
    "o = [1, 2, 3, 4, 2, 1, 5, 6, 4]\n",
    "print(\"Original List:\", o)\n",
    "\n",
    "u = []\n",
    "for x in o:\n",
    "\tif x not in u:\n",
    "\t\tu.append(x)\n",
    "print(\"Update List:\", u)\n",
    "c=[i for i in o if i==x]\n",
    "print(\"count as value\",x)"
   ]
  },
  {
   "cell_type": "code",
   "execution_count": 18,
   "id": "9b13312f-151e-40db-a2d0-620aa6539322",
   "metadata": {},
   "outputs": [
    {
     "name": "stdout",
     "output_type": "stream",
     "text": [
      "Given list :  [11, 23, 12, 42, 51, 67]\n",
      "No, List is not sorted.\n",
      "[11, 12, 23, 42, 51, 67]\n",
      "Ascending [11, 12, 23, 42, 51, 67]\n",
      "Descending [67, 51, 42, 23, 12, 11]\n"
     ]
    }
   ],
   "source": [
    "#16.Create a code to check if a given list is sorted (either in ascending or descending order) or not.\n",
    "listA = [11,23,12,42,51,67]\n",
    "print(\"Given list : \",listA)\n",
    "\n",
    "listA_copy = listA[:]\n",
    "\n",
    "listA_copy.sort()\n",
    "if (listA == listA_copy):\n",
    "   print(\"Yes, List is sorted.\")\n",
    "else:\n",
    "   print(\"No, List is not sorted.\")\n",
    "   a=sorted(listA)\n",
    "   print(listA_copy)\n",
    "\n",
    "listA.sort() \n",
    "print(\"Ascending\", listA) \n",
    " \n",
    "listA.sort(reverse=True)\n",
    "print(\"Descending\", listA)"
   ]
  },
  {
   "cell_type": "code",
   "execution_count": 19,
   "id": "23fe2801-3c69-470a-8e9b-6609d0eb92d7",
   "metadata": {},
   "outputs": [
    {
     "name": "stdout",
     "output_type": "stream",
     "text": [
      "[1, 2, 3, 4, 5, 6, 7, 8, 9, 0]\n"
     ]
    }
   ],
   "source": [
    "#17. Write a code to merge two sorted lists into a single sorted list.\n",
    "a=[1,2,3,4,5]\n",
    "b=[6,7,8,9,0]\n",
    "c=a+b\n",
    "print(c)"
   ]
  },
  {
   "cell_type": "code",
   "execution_count": 20,
   "id": "2748a94d-a94a-40a6-96b6-fcce2085012a",
   "metadata": {},
   "outputs": [
    {
     "name": "stdout",
     "output_type": "stream",
     "text": [
      "[9, 11, 26, 28]\n"
     ]
    }
   ],
   "source": [
    "#18. Implement a code to find the intersection of two given lists.\n",
    "def demo(l1,l2):\n",
    "    l3=[value for value in l1 if value in l2]\n",
    "    return l3\n",
    "lst1 = [4, 9, 1, 17, 11, 26, 28, 54, 69]\n",
    "lst2 = [9, 9, 74, 21, 45, 11, 63, 28, 26]\n",
    "print(demo(lst1, lst2))"
   ]
  },
  {
   "cell_type": "code",
   "execution_count": 21,
   "id": "2be4b797-e337-4015-95ac-0478a9b0e7c0",
   "metadata": {},
   "outputs": [
    {
     "name": "stdout",
     "output_type": "stream",
     "text": [
      "The resultant merged list is \n",
      "[23, 45, 65, 31, 1, 89, 67, 8, 90]\n"
     ]
    }
   ],
   "source": [
    "#19.Create a code to find the union of two lists without duplicates.\n",
    "list1 = [23, 45, 65, 31, 1, 89]\n",
    "list2 = [67, 89, 23, 45, 8, 90]\n",
    "\n",
    "ans = []\n",
    "\n",
    "for data in list1:\n",
    "\tif data not in ans:\n",
    "\t\tans.append(data)\n",
    "\t\t\n",
    "for data in list2:\n",
    "\tif data not in ans:\n",
    "\t\tans.append(data)\n",
    "\n",
    "print(\"The resultant merged list is \")\n",
    "print(ans)"
   ]
  },
  {
   "cell_type": "code",
   "execution_count": 22,
   "id": "17856d58-d50d-467c-8361-4ab75ceff814",
   "metadata": {},
   "outputs": [
    {
     "name": "stdout",
     "output_type": "stream",
     "text": [
      "[1, 2, 3, 4, 5, 6, 7]\n",
      "[1, 6, 7, 2, 5, 3, 4]\n"
     ]
    }
   ],
   "source": [
    "#20.Write a code to shuffle a given list randomly without using any built-in shuffle functions\n",
    "import random\n",
    "def demo(arr):\n",
    "    n=len(arr)\n",
    "    for i in range (n-1,0,-1):\n",
    "        j=random.randint(0,i)\n",
    "        arr[i],arr[j]=arr[j],arr[i]\n",
    "    return arr\n",
    "l=[1,2,3,4,5,6,7]\n",
    "s=demo(l.copy())\n",
    "print(l)\n",
    "print(s)"
   ]
  },
  {
   "cell_type": "code",
   "execution_count": 23,
   "id": "bdefe8da-1b9f-4b8e-967f-0e1dc1a82c73",
   "metadata": {},
   "outputs": [
    {
     "name": "stdin",
     "output_type": "stream",
     "text": [
      "enter the tuple 1,2\n",
      "enter the tuple 3,4\n"
     ]
    },
    {
     "name": "stdout",
     "output_type": "stream",
     "text": [
      "tuple 1: ('1', '2')\n",
      "tuple 2: ('3', '4')\n",
      "The filtered tuple :  [('1', '3'), ('1', '4'), ('2', '3'), ('2', '4'), ('3', '1'), ('3', '2'), ('4', '1'), ('4', '2')]\n"
     ]
    }
   ],
   "source": [
    "#21. Write a code that takes two tuples as input and returns a new tuple containing elements that arecommon to both input tuples. \n",
    "t1=input(\"enter the tuple\")\n",
    "a1=tuple(t1.split(','))\n",
    "t2=input(\"enter the tuple\")\n",
    "a2=tuple(t2.split(','))\n",
    "print(\"tuple 1:\",a1)\n",
    "print(\"tuple 2:\",a2)\n",
    "res =  [(a, b) for a in a1 for b in a2]\n",
    "res = res +  [(a, b) for a in a2 for b in a1]\n",
    "print(\"The filtered tuple : \",res)"
   ]
  },
  {
   "cell_type": "code",
   "execution_count": 24,
   "id": "6fb91d95-7d72-4e9c-b475-5ed24b4f06f2",
   "metadata": {},
   "outputs": [
    {
     "name": "stdout",
     "output_type": "stream",
     "text": [
      "{2, 3}\n"
     ]
    }
   ],
   "source": [
    "#22. Create a code that prompts the user to enter two sets of integers separated by commas. Then, print theintersection of these two sets.\n",
    "s1 = {1, 2, 3}\n",
    "s2 = {2, 3}\n",
    "print(s1.intersection(s2))"
   ]
  },
  {
   "cell_type": "code",
   "execution_count": 25,
   "id": "de468d76-6d69-4f9d-b946-6b0b5b3bb42f",
   "metadata": {},
   "outputs": [
    {
     "name": "stdin",
     "output_type": "stream",
     "text": [
      "enter the tuple 1,2,3,4,5\n",
      "enter the tuple 6,7,8,9,0\n"
     ]
    },
    {
     "name": "stdout",
     "output_type": "stream",
     "text": [
      "tuple 1 ('1', '2', '3', '4', '5')\n",
      "tuple 2 ('6', '7', '8', '9', '0')\n",
      "contaning element form 2 tuple ('1', '2', '3', '4', '5', '6', '7', '8', '9', '0')\n"
     ]
    }
   ],
   "source": [
    "#23. Write a code to concatenate two tuples. The function should take two tuples as input and return a new tuple containing \n",
    "#elements from both input tuples.\n",
    "t1=input(\"enter the tuple\")\n",
    "t2=input(\"enter the tuple\")\n",
    "t3=tuple(t1.split(','))\n",
    "t4=tuple(t2.split(','))\n",
    "t5=t3+t4\n",
    "print(\"tuple 1\",t3)\n",
    "print(\"tuple 2\",t4)\n",
    "print(\"contaning element form 2 tuple\",(t5))"
   ]
  },
  {
   "cell_type": "code",
   "execution_count": 26,
   "id": "4a6e6dd6-5439-47ff-b6a1-4979d4d3de3b",
   "metadata": {},
   "outputs": [
    {
     "name": "stdin",
     "output_type": "stream",
     "text": [
      "enter 1st set 1,2,3,4,5,6\n",
      "enter 2nd set 2,4,6,7,1,8,9\n"
     ]
    },
    {
     "name": "stdout",
     "output_type": "stream",
     "text": [
      "new sets: {'5', '3'}\n"
     ]
    }
   ],
   "source": [
    "#24. Develop a code that prompts the user to input two sets of strings. Then, print the elements that are present in the first set \n",
    "#but not in the second set.\n",
    "s1=input(\"enter 1st set\")\n",
    "s2=input(\"enter 2nd set\")\n",
    "a1=set(s1)\n",
    "a2=set(s2)\n",
    "r=a1-a2\n",
    "print(\"new sets:\",r)"
   ]
  },
  {
   "cell_type": "code",
   "execution_count": 27,
   "id": "4d6f6987-18f4-49c0-b739-475febaa71a8",
   "metadata": {},
   "outputs": [
    {
     "name": "stdin",
     "output_type": "stream",
     "text": [
      "enter 1st tuple 1,2\n",
      "enter 2nd tuple 2,3,4\n"
     ]
    },
    {
     "name": "stdout",
     "output_type": "stream",
     "text": [
      "containing element [('1', '2'), ('1', '3'), ('1', '4'), ('2', '2'), ('2', '3'), ('2', '4'), ('2', '1'), ('2', '2'), ('3', '1'), ('3', '2'), ('4', '1'), ('4', '2')]\n"
     ]
    }
   ],
   "source": [
    "#25.Create a code that takes a tuple and two integers as input. \n",
    "#The function should return a new tuple containing elements from the original tuple within the specified range of indices.\n",
    "t1=input(\"enter 1st tuple\")\n",
    "a1=tuple(t1.split(','))\n",
    "t2=input(\"enter 2nd tuple\")\n",
    "a2=tuple(t2.split(','))\n",
    "res=[(a,b)for a in a1 for b in a2]\n",
    "res=res+[(a,b)for a in a2 for b in a1]\n",
    "print(\"containing element\",(res))"
   ]
  },
  {
   "cell_type": "code",
   "execution_count": 28,
   "id": "187c4a1c-9c8b-4df7-8ce5-d627ce3f9615",
   "metadata": {},
   "outputs": [
    {
     "name": "stdin",
     "output_type": "stream",
     "text": [
      "enter 1st set a,c,d,e\n",
      "enter 2nd set q,w,e,r\n"
     ]
    },
    {
     "name": "stdout",
     "output_type": "stream",
     "text": [
      "Union of two sets {'a', 'e', 'r', 'd', ',', 'w', 'c', 'q'}\n"
     ]
    }
   ],
   "source": [
    "#26. Write a code that prompts the user to input two sets of characters. Then, print the union of these two sets.\n",
    "s1=input(\"enter 1st set\")\n",
    "s2=input(\"enter 2nd set\")\n",
    "a1=set(s1)\n",
    "a2=set(s2)\n",
    "print(\"Union of two sets\",a1.union(a2))"
   ]
  },
  {
   "cell_type": "code",
   "execution_count": 29,
   "id": "80e658c3-fa01-46ee-bb4a-d097b4d1ebda",
   "metadata": {},
   "outputs": [
    {
     "name": "stdin",
     "output_type": "stream",
     "text": [
      "enter no 23,45,89,12,8\n"
     ]
    },
    {
     "name": "stdout",
     "output_type": "stream",
     "text": [
      "maximum value 89\n",
      "minimum value 8\n"
     ]
    }
   ],
   "source": [
    "#27.Develop a code that takes a tuple of integers as input. The function should return the maximum \n",
    "#and minimum values from the tuple using tuple unpacking.\n",
    "t=input(\"enter no\")\n",
    "no=tuple(map(int,t.split(',')))\n",
    "a,b=max(no),min(no)\n",
    "print(\"maximum value\",a)\n",
    "print(\"minimum value\",b)"
   ]
  },
  {
   "cell_type": "code",
   "execution_count": 30,
   "id": "39577088-cfd1-4866-bbef-f53e5601cded",
   "metadata": {},
   "outputs": [
    {
     "name": "stdin",
     "output_type": "stream",
     "text": [
      "enter set 0,2,4,6,8\n",
      "enter set 1,2,3,4,5\n"
     ]
    },
    {
     "name": "stdout",
     "output_type": "stream",
     "text": [
      "union {'0', '4', '8', '2', '6', '5', ',', '3', '1'}\n",
      "inegers {'4', '2', ','}\n",
      "differenc {'0', '8', '6'}\n"
     ]
    }
   ],
   "source": [
    "#28. Create a code that defines two sets of integers. Then, print the union, intersection, and difference of these two sets.\n",
    "s1=input(\"enter set\")\n",
    "s2=input(\"enter set\")\n",
    "a1=set(s1)\n",
    "a2=set(s2)\n",
    "print(\"union\",a1|a2)\n",
    "print(\"inegers\",a1&a2)\n",
    "print(\"differenc\",a1-a2)"
   ]
  },
  {
   "cell_type": "code",
   "execution_count": 31,
   "id": "e1ba3352-b9cb-4a4b-8ce7-5fbee5a52605",
   "metadata": {},
   "outputs": [
    {
     "name": "stdout",
     "output_type": "stream",
     "text": [
      "<function fun at 0x7f49c0359bd0>\n"
     ]
    }
   ],
   "source": [
    "#29. Write a code that takes a tuple and an element as input. The function should return the count of occurrences of the given element in the tuple.\n",
    "def fun():\n",
    "    t=input(\"enter tuple\")\n",
    "    e=input(\"enter element\")\n",
    "    t1=tuple(t.split(','))\n",
    "    count=t1.count(e)\n",
    "    return count\n",
    "print(fun)"
   ]
  },
  {
   "cell_type": "code",
   "execution_count": 32,
   "id": "ab12081c-651d-4183-bf1a-a84ef611cf20",
   "metadata": {},
   "outputs": [
    {
     "name": "stdin",
     "output_type": "stream",
     "text": [
      "enter set 1,2,3,4,5\n",
      "enter set 6,7,8,9,0\n"
     ]
    },
    {
     "name": "stdout",
     "output_type": "stream",
     "text": [
      "symmetric {'9', '2', '3', '0', '8', '4', '7', '5', '6', '1'}\n"
     ]
    }
   ],
   "source": [
    "#30.Develop a code that prompts the user to input two sets of strings. Then, print the symmetric difference of these two sets.\n",
    "s1=input(\"enter set\")\n",
    "s2=input(\"enter set\")\n",
    "a1=set(s1)\n",
    "a2=set(s2)\n",
    "print(\"symmetric\",a1^a2)"
   ]
  },
  {
   "cell_type": "code",
   "execution_count": 33,
   "id": "ab7608bc-91a4-4fef-839e-8fff5941d1d3",
   "metadata": {},
   "outputs": [
    {
     "name": "stdin",
     "output_type": "stream",
     "text": [
      "enter word apple, banana, apple, orange, banana, apple\n"
     ]
    },
    {
     "name": "stdout",
     "output_type": "stream",
     "text": [
      "{'a': 10, 'p': 6, 'l': 3, 'e': 4, ',': 5, ' ': 5, 'b': 2, 'n': 5, 'o': 1, 'r': 1, 'g': 1}\n"
     ]
    }
   ],
   "source": [
    "#31.Write a code that takes a list of words as input and returns a dictionary where the keys are unique words and the \n",
    "#values are the frequencies of those words in the input list.\n",
    "def put(words):\n",
    "    Dict = {}\n",
    "    for word in words:\n",
    "        if word in Dict:\n",
    "            Dict[word] += 1\n",
    "        else:\n",
    "            Dict[word] = 1\n",
    "    return Dict\n",
    "\n",
    "\n",
    "words = input(\"enter word\")\n",
    "print(put(words))"
   ]
  },
  {
   "cell_type": "code",
   "execution_count": 35,
   "id": "13aa5294-81a6-4191-8cc3-f216a10a58e7",
   "metadata": {},
   "outputs": [
    {
     "name": "stdout",
     "output_type": "stream",
     "text": [
      "{'a': 1, 'b': 5, 'c': 7, 'd': 5}\n"
     ]
    }
   ],
   "source": [
    "#32. Write a code that takes two dictionaries as input and merges them into a single dictionary. If there are common keys, \n",
    "#the values should be added together.\n",
    "def demo(dict1, dict2):\n",
    "    d = dict1.copy()  \n",
    "    \n",
    "    for key, value in dict2.items():\n",
    "        if key in d:\n",
    "            d[key] += value  \n",
    "        else:\n",
    "            d[key] = value  \n",
    "    \n",
    "    return d\n",
    "\n",
    "# Example usage\n",
    "dict1 = {'a': 1, 'b': 2, 'c': 3}\n",
    "dict2 = {'b': 3, 'c': 4, 'd': 5}\n",
    "\n",
    "d = demo(dict1, dict2)\n",
    "print(d)"
   ]
  },
  {
   "cell_type": "code",
   "execution_count": 5,
   "id": "70f85d09-612d-4723-af64-441cde16f3da",
   "metadata": {},
   "outputs": [
    {
     "name": "stdout",
     "output_type": "stream",
     "text": [
      "the nested safely accessed value is :best\n"
     ]
    }
   ],
   "source": [
    "#33. Write a code to access a value in a nested dictionary. The function should take the dictionary and a list ofkeys as input,\n",
    "#and return the corresponding value. If any of the keys do not exist in the dictionary, the function should return None.\n",
    "t={'gfg':{'is':'best'}}\n",
    "res=t.get('gfg',{}).get('is')\n",
    "print(\"the nested safely accessed value is :\"+str(res))"
   ]
  },
  {
   "cell_type": "code",
   "execution_count": 37,
   "id": "349cfc71-13b3-46c2-9826-216cf3f8ed7a",
   "metadata": {},
   "outputs": [
    {
     "name": "stdout",
     "output_type": "stream",
     "text": [
      "Sorted in ascending order: {'banana': 1, 'cherry': 2, 'apple': 3}\n",
      "Sorted in descending order: {'apple': 3, 'cherry': 2, 'banana': 1}\n"
     ]
    }
   ],
   "source": [
    "#34. Write a code that takes a dictionary as input and returns a sorted version of it based on the values. Youcan choose whether to sort in \n",
    "#ascending or descending order.\n",
    "def sort_dict_by_values(d, ascending=True): \n",
    "    sorted_dict = dict(sorted(d.items(), key=lambda item: item[1], reverse=not ascending))\n",
    "    return sorted_dict\n",
    "\n",
    "input_dict = {'apple': 3, 'banana': 1, 'cherry': 2}\n",
    "sorted_dict_ascending = sort_dict_by_values(input_dict, ascending=True)\n",
    "sorted_dict_descending = sort_dict_by_values(input_dict, ascending=False)\n",
    "\n",
    "print(\"Sorted in ascending order:\", sorted_dict_ascending)\n",
    "print(\"Sorted in descending order:\", sorted_dict_descending)"
   ]
  },
  {
   "cell_type": "code",
   "execution_count": 38,
   "id": "9dee7f81-d5c1-446c-905c-fbcf280bf0b6",
   "metadata": {},
   "outputs": [
    {
     "name": "stdout",
     "output_type": "stream",
     "text": [
      "{'A': 67, 'B': 23, 'C': 45, 'D': 56}\n",
      "\n",
      "dictionary after swapping is\n",
      "key:value\n",
      "67 : A\n",
      "23 : B\n",
      "45 : C\n",
      "56 : D\n"
     ]
    }
   ],
   "source": [
    "#35. Write a code that inverts a dictionary, swapping keys and values. Ensure that the inverted dictionarycorrectly handles cases where multiple \n",
    "#keys have the same value by storing the keys as a list in the inverted dictionary.\n",
    "a={'A':67,'B':23,'C':45,'D':56}\n",
    "b=dict([(value,key)for key ,value in a.items()])\n",
    "print(a)\n",
    "print()\n",
    "print(\"dictionary after swapping is\")\n",
    "print(\"key:value\")\n",
    "for i in b:\n",
    "    print(i,\":\",b[i])"
   ]
  },
  {
   "cell_type": "code",
   "execution_count": null,
   "id": "d4bca158-1851-4777-8c3d-007fc5091b00",
   "metadata": {},
   "outputs": [],
   "source": []
  }
 ],
 "metadata": {
  "kernelspec": {
   "display_name": "Python 3 (ipykernel)",
   "language": "python",
   "name": "python3"
  },
  "language_info": {
   "codemirror_mode": {
    "name": "ipython",
    "version": 3
   },
   "file_extension": ".py",
   "mimetype": "text/x-python",
   "name": "python",
   "nbconvert_exporter": "python",
   "pygments_lexer": "ipython3",
   "version": "3.10.8"
  }
 },
 "nbformat": 4,
 "nbformat_minor": 5
}
